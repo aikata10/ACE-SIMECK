{
 "cells": [
  {
   "cell_type": "code",
   "execution_count": 11,
   "metadata": {},
   "outputs": [
    {
     "name": "stdout",
     "output_type": "stream",
     "text": [
      "0000000000000000 1000000000000000\n",
      "1000000000000000 ?1000?0000000000\n",
      "?1000?0000000000 ??100??000?00000\n",
      "??100??000?00000 ???10???00??000?\n",
      "???10???00??000? ?????????0???00?\n"
     ]
    }
   ],
   "source": [
    "# forward direction - encryption\n",
    "input_left = \"1000000000000000\"\n",
    "input_right= \"0000000000000000\"\n",
    "rounds=5\n",
    "for i in range(rounds):\n",
    "    temp_right=[i for i in input_left]\n",
    "    for j in range(16):\n",
    "        if input_right[j] == '1':\n",
    "            temp_right[j]=\"?\"\n",
    "            if temp_right[(j+1)%16]!='?':\n",
    "                temp_right[(j+1)%16]=\"1\"\n",
    "            temp_right[(j+5)%16]=\"?\"\n",
    "        if input_right[j] == '?':\n",
    "            temp_right[j]=\"?\"\n",
    "            temp_right[(j+1)%16]=\"?\"\n",
    "            temp_right[(j+5)%16]=\"?\"\n",
    "    input_left=input_right\n",
    "    input_right=\"\"\n",
    "    for j in temp_right:\n",
    "        input_right+=j\n",
    "    print(input_left,input_right)\n",
    "    \n",
    "            \n",
    "            "
   ]
  },
  {
   "cell_type": "code",
   "execution_count": 13,
   "metadata": {},
   "outputs": [
    {
     "name": "stdout",
     "output_type": "stream",
     "text": [
      "00000100000000000000000000000000 00000000000000000000000000000000\n",
      "00000?1000?000000000000000000000 00000100000000000000000000000000\n",
      "00000??100??000?0000000000000000 00000?1000?000000000000000000000\n",
      "?000????10???00?0000000000000000 00000??100??000?0000000000000000\n",
      "??00??????????0?0000000000000000 ?000????10???00?0000000000000000\n",
      "???0????????????0000000000000000 ??00??????????0?0000000000000000\n"
     ]
    }
   ],
   "source": [
    "# backward direction - encryption\n",
    "input_left = \"00000000000000000000000000000000\"\n",
    "input_right= \"00000100000000000000000000000000\"\n",
    "rounds=6\n",
    "for i in range(rounds):\n",
    "    temp_left=[i for i in input_right]\n",
    "    for j in range(16):\n",
    "        if input_left[j] == '1':\n",
    "            temp_left[j]=\"?\"\n",
    "            if temp_left[(j+1)%16]!='?':\n",
    "                temp_left[(j+1)%16]=\"1\"\n",
    "            temp_left[(j+5)%16]=\"?\"\n",
    "        if input_left[j] == '?':\n",
    "            temp_left[j]=\"?\"\n",
    "            temp_left[(j+1)%16]=\"?\"\n",
    "            temp_left[(j+5)%16]=\"?\"\n",
    "    input_right=input_left\n",
    "    input_left=\"\"\n",
    "    for j in temp_left:\n",
    "        input_left+=j\n",
    "    print(input_left,input_right)\n",
    "    \n",
    "            \n",
    "            "
   ]
  },
  {
   "cell_type": "code",
   "execution_count": null,
   "metadata": {},
   "outputs": [],
   "source": []
  }
 ],
 "metadata": {
  "kernelspec": {
   "display_name": "Python 3",
   "language": "python",
   "name": "python3"
  },
  "language_info": {
   "codemirror_mode": {
    "name": "ipython",
    "version": 3
   },
   "file_extension": ".py",
   "mimetype": "text/x-python",
   "name": "python",
   "nbconvert_exporter": "python",
   "pygments_lexer": "ipython3",
   "version": "3.6.5"
  }
 },
 "nbformat": 4,
 "nbformat_minor": 2
}
