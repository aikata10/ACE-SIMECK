{
 "cells": [
  {
   "cell_type": "code",
   "execution_count": 45,
   "metadata": {},
   "outputs": [
    {
     "name": "stdout",
     "output_type": "stream",
     "text": [
      "1 10000000000000000000000000000000 00000000000000000000000000000000\n",
      "2 ?00000000000000000000000000?0001 10000000000000000000000000000000\n",
      "3 ?000000000000000000000?000??001? ?00000000000000000000000000?0001\n",
      "4 ?0000000000000000?000??00???01?? ?000000000000000000000?000??001?\n",
      "5 ?00000000000?000??00???0????1??? ?0000000000000000?000??00???01??\n",
      "6 ?000000?000??00???0????????????? ?00000000000?000??00???0????1???\n",
      "7 ?0?000??00???0?????????????????? ?000000?000??00???0?????????????\n"
     ]
    }
   ],
   "source": [
    "# forward direction - encryption\n",
    "input_left = \"00000000000000000000000000000000\"\n",
    "input_right= \"10000000000000000000000000000000\"\n",
    "rounds=7\n",
    "p=32\n",
    "for i in range(rounds):\n",
    "    temp_right=[i for i in input_right]\n",
    "    for j in range(p):\n",
    "        if input_left[j] == '1':\n",
    "            temp_right[j]=\"?\"\n",
    "            if temp_right[(j-1)%p]!='?' :\n",
    "                if temp_right[(j-1)%p] == \"1\":\n",
    "                    temp_right[(j-1)%p]=\"0\"\n",
    "                else:\n",
    "                    temp_right[(j-1)%p]=\"1\"\n",
    "            temp_right[(j-5)%p]=\"?\"\n",
    "        if input_left[j] == '?':\n",
    "            temp_right[j]=\"?\"\n",
    "            temp_right[(j-1)%p]=\"?\"\n",
    "            temp_right[(j-5)%p]=\"?\"\n",
    "    input_right=input_left\n",
    "    input_left=\"\"\n",
    "    for j in temp_right:\n",
    "        input_left+=j    \n",
    "    print(i+1,input_left,input_right)\n",
    "    \n",
    "\n",
    "    \n",
    "            \n",
    "            "
   ]
  },
  {
   "cell_type": "code",
   "execution_count": 46,
   "metadata": {},
   "outputs": [
    {
     "name": "stdout",
     "output_type": "stream",
     "text": [
      "00000000000000000000000000000000 00010000000000000000000000000000\n",
      "00010000000000000000000000000000 001?00000000000000000000000000?0\n",
      "001?00000000000000000000000000?0 01??000000000000000000000?000??0\n",
      "01??000000000000000000000?000??0 1???0000000000000000?000??00???0\n"
     ]
    }
   ],
   "source": [
    "# backward direction - encryption\n",
    "input_left = \"00010000000000000000000000000000\"\n",
    "input_right= \"00000000000000000000000000000000\"\n",
    "rounds=4\n",
    "p=32\n",
    "for i in range(rounds):\n",
    "    temp_left=[i for i in input_left]\n",
    "    for j in range(p):\n",
    "        if input_right[j] == '1':\n",
    "            temp_left[j]=\"?\"\n",
    "            if temp_left[(j-1)%p]!='?' :\n",
    "                if input_left[(j-1)%p] == \"1\":\n",
    "                    temp_left[(j-1)%p]=\"0\"\n",
    "                else:\n",
    "                    temp_left[(j-1)%p]=\"1\"\n",
    "            temp_left[(j-5)%p]=\"?\"\n",
    "        if input_right[j] == '?':\n",
    "            temp_left[j]=\"?\"\n",
    "            temp_left[(j-1)%p]=\"?\"\n",
    "            temp_left[(j-5)%p]=\"?\"\n",
    "    input_left=input_right\n",
    "    input_right=\"\"\n",
    "    for j in temp_left:\n",
    "        input_right+=j\n",
    "    print(input_left,input_right)\n",
    "    \n",
    "\n",
    "    \n",
    "            \n",
    "            "
   ]
  },
  {
   "cell_type": "code",
   "execution_count": 47,
   "metadata": {},
   "outputs": [
    {
     "name": "stdout",
     "output_type": "stream",
     "text": [
      "1 000000000000000000?0001?00000000 00000000000000000000000100000000\n",
      "2 0000000000000?000??001??00000000 000000000000000000?0001?00000000\n",
      "3 00000000?000??00???01???00000000 0000000000000?000??001??00000000\n",
      "4 000?000??00???0????1????00000000 00000000?000??00???01???00000000\n",
      "5 00??00???0??????????????000000?0 000?000??00???0????1????00000000\n",
      "6 0???0???????????????????0?000??0 00??00???0??????????????000000?0\n",
      "7 ??????????????????????????00???0 0???0???????????????????0?000??0\n",
      "8 ??????????????????????????0????? ??????????????????????????00???0\n"
     ]
    }
   ],
   "source": [
    "# new 13 round distinguisher\n",
    "# forward direction - encryption\n",
    "input_left = \"00000000000000000000000100000000\"\n",
    "input_right= \"00000000000000000000000000000000\"\n",
    "rounds=8\n",
    "p=32\n",
    "for i in range(rounds):\n",
    "    temp_right=[i for i in input_right]\n",
    "    for j in range(p):\n",
    "        if input_left[j] == '1':\n",
    "            temp_right[j]=\"?\"\n",
    "            if temp_right[(j-1)%p]!='?' :\n",
    "                if temp_right[(j-1)%p] == \"1\":\n",
    "                    temp_right[(j-1)%p]=\"0\"\n",
    "                else:\n",
    "                    temp_right[(j-1)%p]=\"1\"\n",
    "            temp_right[(j-5)%p]=\"?\"\n",
    "        if input_left[j] == '?':\n",
    "            temp_right[j]=\"?\"\n",
    "            temp_right[(j-1)%p]=\"?\"\n",
    "            temp_right[(j-5)%p]=\"?\"\n",
    "    input_right=input_left\n",
    "    input_left=\"\"\n",
    "    for j in temp_right:\n",
    "        input_left+=j    \n",
    "    print(i+1,input_left,input_right)\n",
    "    \n",
    "\n",
    "    \n",
    "            \n",
    "            "
   ]
  },
  {
   "cell_type": "code",
   "execution_count": 48,
   "metadata": {},
   "outputs": [
    {
     "name": "stdout",
     "output_type": "stream",
     "text": [
      "00000000000000000000000000000000 00010000000000000000000000000000\n",
      "00010000000000000000000000000000 001?00000000000000000000000000?0\n",
      "001?00000000000000000000000000?0 01??000000000000000000000?000??0\n",
      "01??000000000000000000000?000??0 1???0000000000000000?000??00???0\n",
      "1???0000000000000000?000??00???0 ????00000000000?000??00???0????1\n"
     ]
    }
   ],
   "source": [
    "# backward direction - encryption\n",
    "input_left = \"00010000000000000000000000000000\"\n",
    "input_right= \"00000000000000000000000000000000\"\n",
    "rounds=5\n",
    "p=32\n",
    "for i in range(rounds):\n",
    "    temp_left=[i for i in input_left]\n",
    "    for j in range(p):\n",
    "        if input_right[j] == '1':\n",
    "            temp_left[j]=\"?\"\n",
    "            if temp_left[(j-1)%p]!='?' :\n",
    "                if input_left[(j-1)%p] == \"1\":\n",
    "                    temp_left[(j-1)%p]=\"0\"\n",
    "                else:\n",
    "                    temp_left[(j-1)%p]=\"1\"\n",
    "            temp_left[(j-5)%p]=\"?\"\n",
    "        if input_right[j] == '?':\n",
    "            temp_left[j]=\"?\"\n",
    "            temp_left[(j-1)%p]=\"?\"\n",
    "            temp_left[(j-5)%p]=\"?\"\n",
    "    input_left=input_right\n",
    "    input_right=\"\"\n",
    "    for j in temp_left:\n",
    "        input_right+=j\n",
    "    print(input_left,input_right)\n",
    "    \n",
    "\n",
    "    \n",
    "            \n",
    "            "
   ]
  },
  {
   "cell_type": "code",
   "execution_count": null,
   "metadata": {},
   "outputs": [],
   "source": []
  }
 ],
 "metadata": {
  "kernelspec": {
   "display_name": "Python 3",
   "language": "python",
   "name": "python3"
  },
  "language_info": {
   "codemirror_mode": {
    "name": "ipython",
    "version": 3
   },
   "file_extension": ".py",
   "mimetype": "text/x-python",
   "name": "python",
   "nbconvert_exporter": "python",
   "pygments_lexer": "ipython3",
   "version": "3.6.5"
  }
 },
 "nbformat": 4,
 "nbformat_minor": 2
}
