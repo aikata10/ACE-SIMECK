{
 "cells": [
  {
   "cell_type": "code",
   "execution_count": 12,
   "metadata": {},
   "outputs": [
    {
     "name": "stdout",
     "output_type": "stream",
     "text": [
      "1 \t 1000000000000000\n",
      "2 \t 0000000000000000\n",
      "3 \t 0000000000000000\n",
      "4 \t 0000000000000000\n",
      "5 \t 1000000000000000\n",
      "6 \t 0000000000000000\n",
      "7 \t 0000000000000000\n",
      "8 \t ?0000000000?0001\n",
      "9 \t 1000000000000000\n",
      "10 \t 0000000000000000\n",
      "11 \t ?00000?000??001?\n",
      "12 \t ?0000000000?0000\n",
      "13 \t 1000000000000000\n",
      "14 \t ??000??00???01??\n",
      "15 \t ?00000?000??001?\n"
     ]
    }
   ],
   "source": [
    "# key schedule\n",
    "input=[\"\" for i in range(15)]\n",
    "input[0] = \"1000000000000000\"\n",
    "input[1] = \"0000000000000000\"\n",
    "input[2] = \"0000000000000000\"\n",
    "input[3] = \"0000000000000000\"\n",
    "print(1,\"\\t\",input[0])\n",
    "print(2,\"\\t\",input[1])\n",
    "print(3,\"\\t\",input[2])\n",
    "print(4,\"\\t\",input[3])\n",
    "for i in range(4,15):\n",
    "    input_left = input[i-3]\n",
    "    input_right= input[i-4]\n",
    "    temp_right=['0' for i in input_right]\n",
    "    for j in range(16):\n",
    "        if input_left[j] == '1' :\n",
    "            temp_right[j]=\"?\"\n",
    "            if temp_right[(j-1)%16]!='?' :\n",
    "                temp_right[(j-1)%16]=\"1\"\n",
    "            temp_right[(j-5)%16]=\"?\"\n",
    "        elif input_left[j] == '?':\n",
    "            temp_right[j]=\"?\"\n",
    "            temp_right[(j-1)%16]=\"?\"\n",
    "            temp_right[(j-5)%16]=\"?\"\n",
    "    #print(temp_right)\n",
    "    for j in range(16):\n",
    "        if input_right[j]=='?':\n",
    "            temp_right[j]='?'\n",
    "        if temp_right[j]!= '?' and input_right[j]==temp_right[j]:\n",
    "                temp_right[j]='0'\n",
    "        elif temp_right[j]!= '?' and input_right[j]!=temp_right[j]:\n",
    "                temp_right[j]='1'\n",
    "               \n",
    "    for j in temp_right:\n",
    "        input[i]+=j\n",
    "    print(i+1,\"\\t\",input[i])\n"
   ]
  },
  {
   "cell_type": "code",
   "execution_count": 13,
   "metadata": {},
   "outputs": [
    {
     "name": "stdout",
     "output_type": "stream",
     "text": [
      "0 0000000000000000 1000000000000000\n",
      "1 0000000000000000 0000000000000000\n",
      "2 0000000000000000 0000000000000000\n",
      "3 0000000000000000 0000000000000000\n",
      "4 0000000000000000 0000000000000000\n",
      "5 1000000000000000 0000000000000000\n",
      "6 ?0000000000?0001 1000000000000000\n",
      "7 ?00000?000??001? ?0000000000?0001\n",
      "8 ??000??00???01?? ?00000?000??001?\n",
      "9 ??00???0???????? ??000??00???01??\n",
      "10 ??0????????????? ??00???0????????\n"
     ]
    }
   ],
   "source": [
    "# forward direction - encryption\n",
    "input_left = \"0000000000000000\"\n",
    "input_right= \"1000000000000000\"\n",
    "rounds=10\n",
    "print(0,input_left,input_right)\n",
    "for i in range(rounds):\n",
    "    temp_right=[i for i in input_right]\n",
    "    for j in range(16):\n",
    "        if input_left[j] == '1':\n",
    "            temp_right[j]=\"?\"\n",
    "            if temp_right[(j-1)%16]!='?' :\n",
    "                if temp_right[(j-1)%16] == \"1\":\n",
    "                    temp_right[(j-1)%16]=\"0\"\n",
    "                else:\n",
    "                    temp_right[(j-1)%16]=\"1\"\n",
    "            temp_right[(j-5)%16]=\"?\"\n",
    "        if input_left[j] == '?':\n",
    "            temp_right[j]=\"?\"\n",
    "            temp_right[(j-1)%16]=\"?\"\n",
    "            temp_right[(j-5)%16]=\"?\"\n",
    "        if input[i][j]== '?':\n",
    "            temp_right[j]=\"?\"\n",
    "        if input[i][j]== \"1\":\n",
    "            if temp_right[j]!=\"?\":\n",
    "                if temp_right[j]==\"1\":\n",
    "                    temp_right[j]=\"0\"\n",
    "                else:\n",
    "                    temp_right[j]=\"1\"\n",
    "    input_right=input_left\n",
    "    input_left=\"\"\n",
    "    for j in temp_right:\n",
    "        input_left+=j\n",
    "        \n",
    "    print(i+1,input_left,input_right)\n",
    "    \n",
    "            \n",
    "            "
   ]
  },
  {
   "cell_type": "code",
   "execution_count": 14,
   "metadata": {},
   "outputs": [
    {
     "name": "stdout",
     "output_type": "stream",
     "text": [
      "0000000000000000 ?00001?000??001?\n",
      "?00001?000??001? ??001??00???01??\n",
      "??001??00???01?? ??01???0????????\n",
      "??01???0???????? ??1?????????????\n",
      "??1????????????? ????????????????\n"
     ]
    }
   ],
   "source": [
    "# backward direction - encryption\n",
    "input_left = \"0000010000000000\"\n",
    "input_right= \"0000000000000000\"\n",
    "rounds=5\n",
    "for i in range(rounds):\n",
    "    temp_left=[i for i in input_left]\n",
    "    for j in range(16):\n",
    "        if input_right[j] == '1':\n",
    "            temp_left[j]=\"?\"\n",
    "            if temp_left[(j-1)%16]!='?' :\n",
    "                if input_left[(j-1)%16] == \"1\":\n",
    "                    temp_left[(j-1)%16]=\"0\"\n",
    "                else:\n",
    "                    temp_left[(j-1)%16]=\"1\"\n",
    "            temp_left[(j-5)%16]=\"?\"\n",
    "        if input_right[j] == '?':\n",
    "            temp_left[j]=\"?\"\n",
    "            temp_left[(j-1)%16]=\"?\"\n",
    "            temp_left[(j-5)%16]=\"?\"\n",
    "        if input[-i-1][j]== '?':\n",
    "            temp_left[j]=\"?\"\n",
    "        if input[-i-1][j]== \"1\":\n",
    "            if temp_left[j]!=\"?\":\n",
    "                if temp_left[j]==\"1\":\n",
    "                    temp_left[j]=\"0\"\n",
    "                else:\n",
    "                    temp_left[j]=\"1\"\n",
    "    input_left=input_right\n",
    "    input_right=\"\"\n",
    "    for j in temp_left:\n",
    "        input_right+=j\n",
    "    print(input_left,input_right)\n",
    "    \n",
    "            \n",
    "            "
   ]
  },
  {
   "cell_type": "code",
   "execution_count": null,
   "metadata": {},
   "outputs": [],
   "source": []
  }
 ],
 "metadata": {
  "kernelspec": {
   "display_name": "Python 3",
   "language": "python",
   "name": "python3"
  },
  "language_info": {
   "codemirror_mode": {
    "name": "ipython",
    "version": 3
   },
   "file_extension": ".py",
   "mimetype": "text/x-python",
   "name": "python",
   "nbconvert_exporter": "python",
   "pygments_lexer": "ipython3",
   "version": "3.6.5"
  }
 },
 "nbformat": 4,
 "nbformat_minor": 2
}
